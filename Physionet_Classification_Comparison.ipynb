{
 "cells": [
  {
   "cell_type": "code",
   "execution_count": 1,
   "metadata": {},
   "outputs": [],
   "source": [
    "import pandas as pd\n",
    "import matplotlib.pyplot as plt\n",
    "import seaborn as sns\n",
    "import sys\n",
    "import os\n",
    "import sklearn "
   ]
  },
  {
   "cell_type": "code",
   "execution_count": 2,
   "metadata": {},
   "outputs": [
    {
     "data": {
      "text/plain": [
       "'/Users/syedmeesumalizaidi'"
      ]
     },
     "execution_count": 2,
     "metadata": {},
     "output_type": "execute_result"
    }
   ],
   "source": [
    "os.getcwd()"
   ]
  },
  {
   "cell_type": "code",
   "execution_count": 3,
   "metadata": {},
   "outputs": [],
   "source": [
    "df = pd.read_csv(\"final_data_with_slopes.csv\")"
   ]
  },
  {
   "cell_type": "code",
   "execution_count": 4,
   "metadata": {},
   "outputs": [],
   "source": [
    "df = df.drop(columns=['Height_last','Height_max','Height_med','Height_min','Height_mode','Height_slope','Height_std',\n",
    "'Gender_last','Gender_max','Gender_med','Gender_min','Gender_mode','Gender_slope','Gender_std',\n",
    "'Age_last','Age_max','Age_med','Age_min','Age_mode','Age_slope','Age_std','Unnamed: 0',\n",
    "'SAPS-I','SOFA','Length_of_stay','Survival','ICUType_first','ICUType_last','ICUType_max','ICUType_med','ICUType_min','ICUType_mode','ICUType_slope','ICUType_std'])"
   ]
  },
  {
   "cell_type": "code",
   "execution_count": 5,
   "metadata": {},
   "outputs": [],
   "source": [
    "record_col = df[\"RecordID\"]\n",
    "df = df.drop(columns=['RecordID'])"
   ]
  },
  {
   "cell_type": "code",
   "execution_count": 6,
   "metadata": {},
   "outputs": [
    {
     "data": {
      "text/html": [
       "<div>\n",
       "<style scoped>\n",
       "    .dataframe tbody tr th:only-of-type {\n",
       "        vertical-align: middle;\n",
       "    }\n",
       "\n",
       "    .dataframe tbody tr th {\n",
       "        vertical-align: top;\n",
       "    }\n",
       "\n",
       "    .dataframe thead th {\n",
       "        text-align: right;\n",
       "    }\n",
       "</style>\n",
       "<table border=\"1\" class=\"dataframe\">\n",
       "  <thead>\n",
       "    <tr style=\"text-align: right;\">\n",
       "      <th></th>\n",
       "      <th>ALP_first</th>\n",
       "      <th>ALP_last</th>\n",
       "      <th>ALP_max</th>\n",
       "      <th>ALP_med</th>\n",
       "      <th>ALP_min</th>\n",
       "      <th>ALP_mode</th>\n",
       "      <th>ALP_slope</th>\n",
       "      <th>ALP_std</th>\n",
       "      <th>ALT_first</th>\n",
       "      <th>ALT_last</th>\n",
       "      <th>...</th>\n",
       "      <th>Weight_std</th>\n",
       "      <th>pH_first</th>\n",
       "      <th>pH_last</th>\n",
       "      <th>pH_max</th>\n",
       "      <th>pH_med</th>\n",
       "      <th>pH_min</th>\n",
       "      <th>pH_mode</th>\n",
       "      <th>pH_slope</th>\n",
       "      <th>pH_std</th>\n",
       "      <th>In-hospital_death</th>\n",
       "    </tr>\n",
       "  </thead>\n",
       "  <tbody>\n",
       "    <tr>\n",
       "      <th>0</th>\n",
       "      <td>79.0</td>\n",
       "      <td>78.0</td>\n",
       "      <td>80.5</td>\n",
       "      <td>78.0</td>\n",
       "      <td>75.0</td>\n",
       "      <td>78.0</td>\n",
       "      <td>0.113020</td>\n",
       "      <td>7.567722</td>\n",
       "      <td>31.0</td>\n",
       "      <td>31.0</td>\n",
       "      <td>...</td>\n",
       "      <td>0.000000</td>\n",
       "      <td>7.38</td>\n",
       "      <td>7.405</td>\n",
       "      <td>7.44</td>\n",
       "      <td>7.39</td>\n",
       "      <td>7.32</td>\n",
       "      <td>7.39</td>\n",
       "      <td>0.000124</td>\n",
       "      <td>0.043012</td>\n",
       "      <td>0</td>\n",
       "    </tr>\n",
       "    <tr>\n",
       "      <th>1</th>\n",
       "      <td>46.0</td>\n",
       "      <td>46.0</td>\n",
       "      <td>46.0</td>\n",
       "      <td>46.0</td>\n",
       "      <td>46.0</td>\n",
       "      <td>46.0</td>\n",
       "      <td>0.589744</td>\n",
       "      <td>7.567722</td>\n",
       "      <td>34.0</td>\n",
       "      <td>34.0</td>\n",
       "      <td>...</td>\n",
       "      <td>0.000000</td>\n",
       "      <td>7.39</td>\n",
       "      <td>7.450</td>\n",
       "      <td>7.48</td>\n",
       "      <td>7.43</td>\n",
       "      <td>7.39</td>\n",
       "      <td>7.41</td>\n",
       "      <td>0.000464</td>\n",
       "      <td>0.040311</td>\n",
       "      <td>0</td>\n",
       "    </tr>\n",
       "    <tr>\n",
       "      <th>2</th>\n",
       "      <td>79.0</td>\n",
       "      <td>78.0</td>\n",
       "      <td>80.5</td>\n",
       "      <td>78.0</td>\n",
       "      <td>75.0</td>\n",
       "      <td>78.0</td>\n",
       "      <td>0.113020</td>\n",
       "      <td>7.567722</td>\n",
       "      <td>31.0</td>\n",
       "      <td>31.0</td>\n",
       "      <td>...</td>\n",
       "      <td>0.144093</td>\n",
       "      <td>7.34</td>\n",
       "      <td>7.400</td>\n",
       "      <td>7.41</td>\n",
       "      <td>7.35</td>\n",
       "      <td>7.29</td>\n",
       "      <td>7.34</td>\n",
       "      <td>0.000206</td>\n",
       "      <td>0.037001</td>\n",
       "      <td>0</td>\n",
       "    </tr>\n",
       "    <tr>\n",
       "      <th>3</th>\n",
       "      <td>79.0</td>\n",
       "      <td>78.0</td>\n",
       "      <td>80.5</td>\n",
       "      <td>78.0</td>\n",
       "      <td>75.0</td>\n",
       "      <td>78.0</td>\n",
       "      <td>0.113020</td>\n",
       "      <td>7.567722</td>\n",
       "      <td>31.0</td>\n",
       "      <td>31.0</td>\n",
       "      <td>...</td>\n",
       "      <td>0.144093</td>\n",
       "      <td>7.38</td>\n",
       "      <td>7.405</td>\n",
       "      <td>7.44</td>\n",
       "      <td>7.39</td>\n",
       "      <td>7.32</td>\n",
       "      <td>7.39</td>\n",
       "      <td>0.000124</td>\n",
       "      <td>0.043012</td>\n",
       "      <td>0</td>\n",
       "    </tr>\n",
       "    <tr>\n",
       "      <th>4</th>\n",
       "      <td>79.0</td>\n",
       "      <td>78.0</td>\n",
       "      <td>80.5</td>\n",
       "      <td>78.0</td>\n",
       "      <td>75.0</td>\n",
       "      <td>78.0</td>\n",
       "      <td>0.113020</td>\n",
       "      <td>7.567722</td>\n",
       "      <td>31.0</td>\n",
       "      <td>31.0</td>\n",
       "      <td>...</td>\n",
       "      <td>10.898434</td>\n",
       "      <td>7.38</td>\n",
       "      <td>7.405</td>\n",
       "      <td>7.44</td>\n",
       "      <td>7.39</td>\n",
       "      <td>7.32</td>\n",
       "      <td>7.39</td>\n",
       "      <td>0.000124</td>\n",
       "      <td>0.043012</td>\n",
       "      <td>0</td>\n",
       "    </tr>\n",
       "  </tbody>\n",
       "</table>\n",
       "<p>5 rows × 300 columns</p>\n",
       "</div>"
      ],
      "text/plain": [
       "   ALP_first  ALP_last  ALP_max  ALP_med  ALP_min  ALP_mode  ALP_slope  \\\n",
       "0       79.0      78.0     80.5     78.0     75.0      78.0   0.113020   \n",
       "1       46.0      46.0     46.0     46.0     46.0      46.0   0.589744   \n",
       "2       79.0      78.0     80.5     78.0     75.0      78.0   0.113020   \n",
       "3       79.0      78.0     80.5     78.0     75.0      78.0   0.113020   \n",
       "4       79.0      78.0     80.5     78.0     75.0      78.0   0.113020   \n",
       "\n",
       "    ALP_std  ALT_first  ALT_last  ...  Weight_std  pH_first  pH_last  pH_max  \\\n",
       "0  7.567722       31.0      31.0  ...    0.000000      7.38    7.405    7.44   \n",
       "1  7.567722       34.0      34.0  ...    0.000000      7.39    7.450    7.48   \n",
       "2  7.567722       31.0      31.0  ...    0.144093      7.34    7.400    7.41   \n",
       "3  7.567722       31.0      31.0  ...    0.144093      7.38    7.405    7.44   \n",
       "4  7.567722       31.0      31.0  ...   10.898434      7.38    7.405    7.44   \n",
       "\n",
       "   pH_med  pH_min  pH_mode  pH_slope    pH_std  In-hospital_death  \n",
       "0    7.39    7.32     7.39  0.000124  0.043012                  0  \n",
       "1    7.43    7.39     7.41  0.000464  0.040311                  0  \n",
       "2    7.35    7.29     7.34  0.000206  0.037001                  0  \n",
       "3    7.39    7.32     7.39  0.000124  0.043012                  0  \n",
       "4    7.39    7.32     7.39  0.000124  0.043012                  0  \n",
       "\n",
       "[5 rows x 300 columns]"
      ]
     },
     "execution_count": 6,
     "metadata": {},
     "output_type": "execute_result"
    }
   ],
   "source": [
    "df.head()"
   ]
  },
  {
   "cell_type": "code",
   "execution_count": 7,
   "metadata": {},
   "outputs": [
    {
     "data": {
      "text/html": [
       "<div>\n",
       "<style scoped>\n",
       "    .dataframe tbody tr th:only-of-type {\n",
       "        vertical-align: middle;\n",
       "    }\n",
       "\n",
       "    .dataframe tbody tr th {\n",
       "        vertical-align: top;\n",
       "    }\n",
       "\n",
       "    .dataframe thead th {\n",
       "        text-align: right;\n",
       "    }\n",
       "</style>\n",
       "<table border=\"1\" class=\"dataframe\">\n",
       "  <thead>\n",
       "    <tr style=\"text-align: right;\">\n",
       "      <th></th>\n",
       "      <th>ALP_first</th>\n",
       "      <th>ALP_last</th>\n",
       "      <th>ALP_max</th>\n",
       "      <th>ALP_med</th>\n",
       "      <th>ALP_min</th>\n",
       "      <th>ALP_mode</th>\n",
       "      <th>ALP_slope</th>\n",
       "      <th>ALP_std</th>\n",
       "      <th>ALT_first</th>\n",
       "      <th>ALT_last</th>\n",
       "      <th>...</th>\n",
       "      <th>Weight_std</th>\n",
       "      <th>pH_first</th>\n",
       "      <th>pH_last</th>\n",
       "      <th>pH_max</th>\n",
       "      <th>pH_med</th>\n",
       "      <th>pH_min</th>\n",
       "      <th>pH_mode</th>\n",
       "      <th>pH_slope</th>\n",
       "      <th>pH_std</th>\n",
       "      <th>In-hospital_death</th>\n",
       "    </tr>\n",
       "  </thead>\n",
       "  <tbody>\n",
       "    <tr>\n",
       "      <th>count</th>\n",
       "      <td>4000.000000</td>\n",
       "      <td>4000.000000</td>\n",
       "      <td>4000.000000</td>\n",
       "      <td>4000.000000</td>\n",
       "      <td>4000.000000</td>\n",
       "      <td>4000.000000</td>\n",
       "      <td>4000.000000</td>\n",
       "      <td>4000.000000</td>\n",
       "      <td>4000.000000</td>\n",
       "      <td>4000.000000</td>\n",
       "      <td>...</td>\n",
       "      <td>4000.000000</td>\n",
       "      <td>4000.000000</td>\n",
       "      <td>4000.000000</td>\n",
       "      <td>4000.000000</td>\n",
       "      <td>4000.000000</td>\n",
       "      <td>4000.000000</td>\n",
       "      <td>4000.000000</td>\n",
       "      <td>4000.000000</td>\n",
       "      <td>4000.000000</td>\n",
       "      <td>4000.000000</td>\n",
       "    </tr>\n",
       "    <tr>\n",
       "      <th>mean</th>\n",
       "      <td>90.352000</td>\n",
       "      <td>89.112750</td>\n",
       "      <td>93.531750</td>\n",
       "      <td>89.128875</td>\n",
       "      <td>84.842000</td>\n",
       "      <td>89.064500</td>\n",
       "      <td>0.358825</td>\n",
       "      <td>9.117946</td>\n",
       "      <td>84.696250</td>\n",
       "      <td>93.003750</td>\n",
       "      <td>...</td>\n",
       "      <td>0.989973</td>\n",
       "      <td>7.457797</td>\n",
       "      <td>7.444007</td>\n",
       "      <td>7.936937</td>\n",
       "      <td>7.440683</td>\n",
       "      <td>7.357792</td>\n",
       "      <td>7.430175</td>\n",
       "      <td>0.008169</td>\n",
       "      <td>0.205090</td>\n",
       "      <td>0.138500</td>\n",
       "    </tr>\n",
       "    <tr>\n",
       "      <th>std</th>\n",
       "      <td>73.512717</td>\n",
       "      <td>74.373183</td>\n",
       "      <td>83.119924</td>\n",
       "      <td>69.825868</td>\n",
       "      <td>62.977302</td>\n",
       "      <td>74.183766</td>\n",
       "      <td>1.522130</td>\n",
       "      <td>18.019679</td>\n",
       "      <td>414.483464</td>\n",
       "      <td>444.370425</td>\n",
       "      <td>...</td>\n",
       "      <td>2.852960</td>\n",
       "      <td>2.797903</td>\n",
       "      <td>1.959402</td>\n",
       "      <td>16.724947</td>\n",
       "      <td>2.067537</td>\n",
       "      <td>1.943463</td>\n",
       "      <td>1.959848</td>\n",
       "      <td>0.145167</td>\n",
       "      <td>5.715049</td>\n",
       "      <td>0.345467</td>\n",
       "    </tr>\n",
       "    <tr>\n",
       "      <th>min</th>\n",
       "      <td>12.000000</td>\n",
       "      <td>12.000000</td>\n",
       "      <td>12.000000</td>\n",
       "      <td>12.000000</td>\n",
       "      <td>12.000000</td>\n",
       "      <td>12.000000</td>\n",
       "      <td>-3.562500</td>\n",
       "      <td>0.000000</td>\n",
       "      <td>1.000000</td>\n",
       "      <td>3.000000</td>\n",
       "      <td>...</td>\n",
       "      <td>0.000000</td>\n",
       "      <td>1.000000</td>\n",
       "      <td>7.030000</td>\n",
       "      <td>7.130000</td>\n",
       "      <td>7.105000</td>\n",
       "      <td>1.000000</td>\n",
       "      <td>6.910000</td>\n",
       "      <td>-7.966364</td>\n",
       "      <td>0.000000</td>\n",
       "      <td>0.000000</td>\n",
       "    </tr>\n",
       "    <tr>\n",
       "      <th>25%</th>\n",
       "      <td>79.000000</td>\n",
       "      <td>78.000000</td>\n",
       "      <td>80.500000</td>\n",
       "      <td>78.000000</td>\n",
       "      <td>75.000000</td>\n",
       "      <td>78.000000</td>\n",
       "      <td>0.113020</td>\n",
       "      <td>7.567722</td>\n",
       "      <td>31.000000</td>\n",
       "      <td>31.000000</td>\n",
       "      <td>...</td>\n",
       "      <td>0.000000</td>\n",
       "      <td>7.340000</td>\n",
       "      <td>7.380000</td>\n",
       "      <td>7.420000</td>\n",
       "      <td>7.365000</td>\n",
       "      <td>7.290000</td>\n",
       "      <td>7.360000</td>\n",
       "      <td>0.000009</td>\n",
       "      <td>0.035890</td>\n",
       "      <td>0.000000</td>\n",
       "    </tr>\n",
       "    <tr>\n",
       "      <th>50%</th>\n",
       "      <td>79.000000</td>\n",
       "      <td>78.000000</td>\n",
       "      <td>80.500000</td>\n",
       "      <td>78.000000</td>\n",
       "      <td>75.000000</td>\n",
       "      <td>78.000000</td>\n",
       "      <td>0.113020</td>\n",
       "      <td>7.567722</td>\n",
       "      <td>31.000000</td>\n",
       "      <td>31.000000</td>\n",
       "      <td>...</td>\n",
       "      <td>0.144093</td>\n",
       "      <td>7.380000</td>\n",
       "      <td>7.405000</td>\n",
       "      <td>7.440000</td>\n",
       "      <td>7.390000</td>\n",
       "      <td>7.320000</td>\n",
       "      <td>7.390000</td>\n",
       "      <td>0.000124</td>\n",
       "      <td>0.043012</td>\n",
       "      <td>0.000000</td>\n",
       "    </tr>\n",
       "    <tr>\n",
       "      <th>75%</th>\n",
       "      <td>79.000000</td>\n",
       "      <td>78.000000</td>\n",
       "      <td>80.500000</td>\n",
       "      <td>78.000000</td>\n",
       "      <td>75.000000</td>\n",
       "      <td>78.000000</td>\n",
       "      <td>0.113020</td>\n",
       "      <td>7.567722</td>\n",
       "      <td>31.000000</td>\n",
       "      <td>31.000000</td>\n",
       "      <td>...</td>\n",
       "      <td>0.945455</td>\n",
       "      <td>7.410000</td>\n",
       "      <td>7.430000</td>\n",
       "      <td>7.470000</td>\n",
       "      <td>7.410000</td>\n",
       "      <td>7.360000</td>\n",
       "      <td>7.410000</td>\n",
       "      <td>0.000255</td>\n",
       "      <td>0.051494</td>\n",
       "      <td>0.000000</td>\n",
       "    </tr>\n",
       "    <tr>\n",
       "      <th>max</th>\n",
       "      <td>1752.000000</td>\n",
       "      <td>2205.000000</td>\n",
       "      <td>2205.000000</td>\n",
       "      <td>1501.000000</td>\n",
       "      <td>1339.000000</td>\n",
       "      <td>2205.000000</td>\n",
       "      <td>68.000000</td>\n",
       "      <td>890.490520</td>\n",
       "      <td>9890.000000</td>\n",
       "      <td>8980.000000</td>\n",
       "      <td>...</td>\n",
       "      <td>50.302364</td>\n",
       "      <td>100.000000</td>\n",
       "      <td>96.000000</td>\n",
       "      <td>735.000000</td>\n",
       "      <td>95.000000</td>\n",
       "      <td>94.000000</td>\n",
       "      <td>96.000000</td>\n",
       "      <td>3.133333</td>\n",
       "      <td>283.047116</td>\n",
       "      <td>1.000000</td>\n",
       "    </tr>\n",
       "  </tbody>\n",
       "</table>\n",
       "<p>8 rows × 300 columns</p>\n",
       "</div>"
      ],
      "text/plain": [
       "         ALP_first     ALP_last      ALP_max      ALP_med      ALP_min  \\\n",
       "count  4000.000000  4000.000000  4000.000000  4000.000000  4000.000000   \n",
       "mean     90.352000    89.112750    93.531750    89.128875    84.842000   \n",
       "std      73.512717    74.373183    83.119924    69.825868    62.977302   \n",
       "min      12.000000    12.000000    12.000000    12.000000    12.000000   \n",
       "25%      79.000000    78.000000    80.500000    78.000000    75.000000   \n",
       "50%      79.000000    78.000000    80.500000    78.000000    75.000000   \n",
       "75%      79.000000    78.000000    80.500000    78.000000    75.000000   \n",
       "max    1752.000000  2205.000000  2205.000000  1501.000000  1339.000000   \n",
       "\n",
       "          ALP_mode    ALP_slope      ALP_std    ALT_first     ALT_last  ...  \\\n",
       "count  4000.000000  4000.000000  4000.000000  4000.000000  4000.000000  ...   \n",
       "mean     89.064500     0.358825     9.117946    84.696250    93.003750  ...   \n",
       "std      74.183766     1.522130    18.019679   414.483464   444.370425  ...   \n",
       "min      12.000000    -3.562500     0.000000     1.000000     3.000000  ...   \n",
       "25%      78.000000     0.113020     7.567722    31.000000    31.000000  ...   \n",
       "50%      78.000000     0.113020     7.567722    31.000000    31.000000  ...   \n",
       "75%      78.000000     0.113020     7.567722    31.000000    31.000000  ...   \n",
       "max    2205.000000    68.000000   890.490520  9890.000000  8980.000000  ...   \n",
       "\n",
       "        Weight_std     pH_first      pH_last       pH_max       pH_med  \\\n",
       "count  4000.000000  4000.000000  4000.000000  4000.000000  4000.000000   \n",
       "mean      0.989973     7.457797     7.444007     7.936937     7.440683   \n",
       "std       2.852960     2.797903     1.959402    16.724947     2.067537   \n",
       "min       0.000000     1.000000     7.030000     7.130000     7.105000   \n",
       "25%       0.000000     7.340000     7.380000     7.420000     7.365000   \n",
       "50%       0.144093     7.380000     7.405000     7.440000     7.390000   \n",
       "75%       0.945455     7.410000     7.430000     7.470000     7.410000   \n",
       "max      50.302364   100.000000    96.000000   735.000000    95.000000   \n",
       "\n",
       "            pH_min      pH_mode     pH_slope       pH_std  In-hospital_death  \n",
       "count  4000.000000  4000.000000  4000.000000  4000.000000        4000.000000  \n",
       "mean      7.357792     7.430175     0.008169     0.205090           0.138500  \n",
       "std       1.943463     1.959848     0.145167     5.715049           0.345467  \n",
       "min       1.000000     6.910000    -7.966364     0.000000           0.000000  \n",
       "25%       7.290000     7.360000     0.000009     0.035890           0.000000  \n",
       "50%       7.320000     7.390000     0.000124     0.043012           0.000000  \n",
       "75%       7.360000     7.410000     0.000255     0.051494           0.000000  \n",
       "max      94.000000    96.000000     3.133333   283.047116           1.000000  \n",
       "\n",
       "[8 rows x 300 columns]"
      ]
     },
     "execution_count": 7,
     "metadata": {},
     "output_type": "execute_result"
    }
   ],
   "source": [
    "df.describe()"
   ]
  },
  {
   "cell_type": "code",
   "execution_count": 8,
   "metadata": {},
   "outputs": [],
   "source": [
    "target_col = df[\"In-hospital_death\"]\n",
    "df = df.drop(columns=['In-hospital_death'])"
   ]
  },
  {
   "cell_type": "code",
   "execution_count": 9,
   "metadata": {},
   "outputs": [],
   "source": [
    "#import the necessary module\n",
    "from sklearn.model_selection import train_test_split\n",
    "#split data set into train and test sets\n",
    "data_train, data_test, target_train, target_test = train_test_split(df,target_col, test_size = 0.20, random_state = 10)"
   ]
  },
  {
   "cell_type": "code",
   "execution_count": 10,
   "metadata": {},
   "outputs": [
    {
     "name": "stdout",
     "output_type": "stream",
     "text": [
      "Naive-Bayes accuracy :  0.79875\n"
     ]
    }
   ],
   "source": [
    "# import the necessary module\n",
    "from sklearn.naive_bayes import GaussianNB\n",
    "from sklearn.metrics import accuracy_score\n",
    "#create an object of the type GaussianNB\n",
    "gnb = GaussianNB()\n",
    "#train the algorithm on training data and predict using the testing data\n",
    "pred = gnb.fit(data_train, target_train).predict(data_test)\n",
    "#print(pred.tolist())\n",
    "#print the accuracy score of the model\n",
    "print(\"Naive-Bayes accuracy : \",accuracy_score(target_test, pred, normalize = True))"
   ]
  },
  {
   "cell_type": "code",
   "execution_count": 11,
   "metadata": {},
   "outputs": [
    {
     "name": "stdout",
     "output_type": "stream",
     "text": [
      "LinearSVC accuracy :  0.86375\n"
     ]
    },
    {
     "name": "stderr",
     "output_type": "stream",
     "text": [
      "/anaconda3/envs/py3/lib/python3.7/site-packages/sklearn/svm/base.py:929: ConvergenceWarning: Liblinear failed to converge, increase the number of iterations.\n",
      "  \"the number of iterations.\", ConvergenceWarning)\n"
     ]
    }
   ],
   "source": [
    "#import the necessary modules\n",
    "from sklearn.svm import LinearSVC\n",
    "from sklearn.metrics import accuracy_score\n",
    "#create an object of type LinearSVC\n",
    "svc_model = LinearSVC(random_state=10)\n",
    "#train the algorithm on training data and predict using the testing data\n",
    "pred = svc_model.fit(data_train, target_train).predict(data_test)\n",
    "#print the accuracy score of the model\n",
    "print(\"LinearSVC accuracy : \",accuracy_score(target_test, pred, normalize = True))"
   ]
  },
  {
   "cell_type": "code",
   "execution_count": 12,
   "metadata": {},
   "outputs": [
    {
     "name": "stdout",
     "output_type": "stream",
     "text": [
      "KNeighbors accuracy score :  0.85375\n"
     ]
    }
   ],
   "source": [
    "#import necessary modules\n",
    "from sklearn.neighbors import KNeighborsClassifier\n",
    "from sklearn.metrics import accuracy_score\n",
    "#create object of the lassifier\n",
    "neigh = KNeighborsClassifier(n_neighbors=3)\n",
    "#Train the algorithm\n",
    "neigh.fit(data_train, target_train)\n",
    "# predict the response\n",
    "pred = neigh.predict(data_test)\n",
    "# evaluate accuracy\n",
    "print (\"KNeighbors accuracy score : \",accuracy_score(target_test, pred))"
   ]
  },
  {
   "cell_type": "code",
   "execution_count": 13,
   "metadata": {},
   "outputs": [],
   "source": [
    "from sklearn.neural_network import MLPClassifier\n",
    "from sklearn.gaussian_process import GaussianProcessClassifier\n",
    "from sklearn.gaussian_process.kernels import RBF\n",
    "from sklearn.tree import DecisionTreeClassifier\n",
    "from sklearn.ensemble import RandomForestClassifier, AdaBoostClassifier\n",
    "from sklearn.discriminant_analysis import QuadraticDiscriminantAnalysis"
   ]
  },
  {
   "cell_type": "code",
   "execution_count": 14,
   "metadata": {},
   "outputs": [],
   "source": [
    "GPC = GaussianProcessClassifier(1.0 * RBF(1.0))\n",
    "Dtree = DecisionTreeClassifier(max_depth=5)\n",
    "Rforest = RandomForestClassifier(max_depth=5, n_estimators=10, max_features=1)\n",
    "NN = MLPClassifier(alpha=1, max_iter=1000)\n",
    "AdaBoost = AdaBoostClassifier()\n",
    "QuardDisc = QuadraticDiscriminantAnalysis()"
   ]
  },
  {
   "cell_type": "code",
   "execution_count": 15,
   "metadata": {},
   "outputs": [],
   "source": [
    "#import cross validation from sklearn\n",
    "from sklearn.model_selection import cross_val_score"
   ]
  },
  {
   "cell_type": "code",
   "execution_count": 16,
   "metadata": {},
   "outputs": [
    {
     "name": "stdout",
     "output_type": "stream",
     "text": [
      "GNB Accuracy: 0.79 (+/- 0.03)\n"
     ]
    }
   ],
   "source": [
    "#GNB accuracy\n",
    "scores = cross_val_score(gnb, df, target_col, cv=5)\n",
    "print(\"GNB Accuracy: %0.2f (+/- %0.2f)\" % (scores.mean(), scores.std() * 2))"
   ]
  },
  {
   "cell_type": "code",
   "execution_count": 17,
   "metadata": {},
   "outputs": [
    {
     "name": "stderr",
     "output_type": "stream",
     "text": [
      "/anaconda3/envs/py3/lib/python3.7/site-packages/sklearn/svm/base.py:929: ConvergenceWarning: Liblinear failed to converge, increase the number of iterations.\n",
      "  \"the number of iterations.\", ConvergenceWarning)\n",
      "/anaconda3/envs/py3/lib/python3.7/site-packages/sklearn/svm/base.py:929: ConvergenceWarning: Liblinear failed to converge, increase the number of iterations.\n",
      "  \"the number of iterations.\", ConvergenceWarning)\n",
      "/anaconda3/envs/py3/lib/python3.7/site-packages/sklearn/svm/base.py:929: ConvergenceWarning: Liblinear failed to converge, increase the number of iterations.\n",
      "  \"the number of iterations.\", ConvergenceWarning)\n",
      "/anaconda3/envs/py3/lib/python3.7/site-packages/sklearn/svm/base.py:929: ConvergenceWarning: Liblinear failed to converge, increase the number of iterations.\n",
      "  \"the number of iterations.\", ConvergenceWarning)\n"
     ]
    },
    {
     "name": "stdout",
     "output_type": "stream",
     "text": [
      "LinearSVC Accuracy: 0.71 (+/- 0.35)\n"
     ]
    },
    {
     "name": "stderr",
     "output_type": "stream",
     "text": [
      "/anaconda3/envs/py3/lib/python3.7/site-packages/sklearn/svm/base.py:929: ConvergenceWarning: Liblinear failed to converge, increase the number of iterations.\n",
      "  \"the number of iterations.\", ConvergenceWarning)\n"
     ]
    }
   ],
   "source": [
    "#LinearSVC accuracy\n",
    "scores = cross_val_score(svc_model, df, target_col, cv=5)\n",
    "print(\"LinearSVC Accuracy: %0.2f (+/- %0.2f)\" % (scores.mean(), scores.std() * 2))"
   ]
  },
  {
   "cell_type": "code",
   "execution_count": 18,
   "metadata": {},
   "outputs": [
    {
     "name": "stdout",
     "output_type": "stream",
     "text": [
      "KNeighbors Accuracy: 0.84 (+/- 0.01)\n"
     ]
    }
   ],
   "source": [
    "#KNeighbors accuracy\n",
    "scores = cross_val_score(neigh, df, target_col, cv=5)\n",
    "print(\"KNeighbors Accuracy: %0.2f (+/- %0.2f)\" % (scores.mean(), scores.std() * 2))"
   ]
  },
  {
   "cell_type": "code",
   "execution_count": 19,
   "metadata": {},
   "outputs": [
    {
     "name": "stdout",
     "output_type": "stream",
     "text": [
      "GPC Accuracy: 0.86 (+/- 0.00)\n"
     ]
    }
   ],
   "source": [
    "#GPC accuracy\n",
    "scores = cross_val_score(GPC, df, target_col, cv=5)\n",
    "print(\"GPC Accuracy: %0.2f (+/- %0.2f)\" % (scores.mean(), scores.std() * 2))"
   ]
  },
  {
   "cell_type": "code",
   "execution_count": 20,
   "metadata": {},
   "outputs": [
    {
     "name": "stdout",
     "output_type": "stream",
     "text": [
      "Dtree Accuracy: 0.85 (+/- 0.01)\n"
     ]
    }
   ],
   "source": [
    "#Dtree accuracy\n",
    "scores = cross_val_score(Dtree, df, target_col, cv=5)\n",
    "print(\"Dtree Accuracy: %0.2f (+/- %0.2f)\" % (scores.mean(), scores.std() * 2))"
   ]
  },
  {
   "cell_type": "code",
   "execution_count": 21,
   "metadata": {},
   "outputs": [
    {
     "name": "stdout",
     "output_type": "stream",
     "text": [
      "Rforest Accuracy: 0.86 (+/- 0.00)\n"
     ]
    }
   ],
   "source": [
    "#Rforest accuracy\n",
    "scores = cross_val_score(Rforest, df, target_col, cv=5)\n",
    "print(\"Rforest Accuracy: %0.2f (+/- %0.2f)\" % (scores.mean(), scores.std() * 2))"
   ]
  },
  {
   "cell_type": "code",
   "execution_count": 22,
   "metadata": {},
   "outputs": [
    {
     "name": "stdout",
     "output_type": "stream",
     "text": [
      "NN Accuracy: 0.80 (+/- 0.24)\n"
     ]
    }
   ],
   "source": [
    "#NN accuracy\n",
    "scores = cross_val_score(NN, df, target_col, cv=5)\n",
    "print(\"NN Accuracy: %0.2f (+/- %0.2f)\" % (scores.mean(), scores.std() * 2))"
   ]
  },
  {
   "cell_type": "code",
   "execution_count": 23,
   "metadata": {},
   "outputs": [
    {
     "name": "stdout",
     "output_type": "stream",
     "text": [
      "AdaBoost Accuracy: 0.86 (+/- 0.02)\n"
     ]
    }
   ],
   "source": [
    "#AdaBoost accuracy\n",
    "scores = cross_val_score(AdaBoost, df, target_col, cv=5)\n",
    "print(\"AdaBoost Accuracy: %0.2f (+/- %0.2f)\" % (scores.mean(), scores.std() * 2))"
   ]
  },
  {
   "cell_type": "code",
   "execution_count": 24,
   "metadata": {},
   "outputs": [
    {
     "name": "stderr",
     "output_type": "stream",
     "text": [
      "/anaconda3/envs/py3/lib/python3.7/site-packages/sklearn/discriminant_analysis.py:693: UserWarning: Variables are collinear\n",
      "  warnings.warn(\"Variables are collinear\")\n",
      "/anaconda3/envs/py3/lib/python3.7/site-packages/sklearn/discriminant_analysis.py:693: UserWarning: Variables are collinear\n",
      "  warnings.warn(\"Variables are collinear\")\n",
      "/anaconda3/envs/py3/lib/python3.7/site-packages/sklearn/discriminant_analysis.py:693: UserWarning: Variables are collinear\n",
      "  warnings.warn(\"Variables are collinear\")\n",
      "/anaconda3/envs/py3/lib/python3.7/site-packages/sklearn/discriminant_analysis.py:693: UserWarning: Variables are collinear\n",
      "  warnings.warn(\"Variables are collinear\")\n",
      "/anaconda3/envs/py3/lib/python3.7/site-packages/sklearn/discriminant_analysis.py:693: UserWarning: Variables are collinear\n",
      "  warnings.warn(\"Variables are collinear\")\n",
      "/anaconda3/envs/py3/lib/python3.7/site-packages/sklearn/discriminant_analysis.py:693: UserWarning: Variables are collinear\n",
      "  warnings.warn(\"Variables are collinear\")\n"
     ]
    },
    {
     "name": "stdout",
     "output_type": "stream",
     "text": [
      "QuardDisc Accuracy: 0.69 (+/- 0.07)\n"
     ]
    },
    {
     "name": "stderr",
     "output_type": "stream",
     "text": [
      "/anaconda3/envs/py3/lib/python3.7/site-packages/sklearn/discriminant_analysis.py:693: UserWarning: Variables are collinear\n",
      "  warnings.warn(\"Variables are collinear\")\n",
      "/anaconda3/envs/py3/lib/python3.7/site-packages/sklearn/discriminant_analysis.py:693: UserWarning: Variables are collinear\n",
      "  warnings.warn(\"Variables are collinear\")\n",
      "/anaconda3/envs/py3/lib/python3.7/site-packages/sklearn/discriminant_analysis.py:693: UserWarning: Variables are collinear\n",
      "  warnings.warn(\"Variables are collinear\")\n",
      "/anaconda3/envs/py3/lib/python3.7/site-packages/sklearn/discriminant_analysis.py:693: UserWarning: Variables are collinear\n",
      "  warnings.warn(\"Variables are collinear\")\n"
     ]
    }
   ],
   "source": [
    "#QuardDisc accuracy\n",
    "scores = cross_val_score(QuardDisc, df, target_col, cv=5)\n",
    "print(\"QuardDisc Accuracy: %0.2f (+/- %0.2f)\" % (scores.mean(), scores.std() * 2))"
   ]
  },
  {
   "cell_type": "code",
   "execution_count": 25,
   "metadata": {},
   "outputs": [],
   "source": [
    "#import classification report from yellowbrick\n",
    "from yellowbrick.classifier import ClassificationReport"
   ]
  },
  {
   "cell_type": "code",
   "execution_count": 26,
   "metadata": {},
   "outputs": [
    {
     "data": {
      "image/png": "[encoded data removed]",
      "text/plain": [
       "<Figure size 576x396 with 2 Axes>"
      ]
     },
     "metadata": {},
     "output_type": "display_data"
    }
   ],
   "source": [
    "#GNB Accuracy Visualisation\n",
    "# Instantiate the classification model and visualizer\n",
    "visualizer = ClassificationReport(gnb, classes=[0,1])\n",
    "visualizer.fit(data_train, target_train) # Fit the training data to the visualizer\n",
    "visualizer.score(data_test, target_test) # Evaluate the model on the test data\n",
    "g = visualizer.poof() # Draw/show/poof the data"
   ]
  },
  {
   "cell_type": "code",
   "execution_count": 27,
   "metadata": {},
   "outputs": [
    {
     "name": "stderr",
     "output_type": "stream",
     "text": [
      "/anaconda3/envs/py3/lib/python3.7/site-packages/sklearn/svm/base.py:929: ConvergenceWarning: Liblinear failed to converge, increase the number of iterations.\n",
      "  \"the number of iterations.\", ConvergenceWarning)\n"
     ]
    },
    {
     "data": {
      "image/png": "[encoded data removed]",
      "text/plain": [
       "<Figure size 576x396 with 2 Axes>"
      ]
     },
     "metadata": {},
     "output_type": "display_data"
    }
   ],
   "source": [
    "#LinearSVC Accuracy Visualisation\n",
    "# Instantiate the classification model and visualizer\n",
    "visualizer = ClassificationReport(svc_model, classes=[0,1])\n",
    "visualizer.fit(data_train, target_train) # Fit the training data to the visualizer\n",
    "visualizer.score(data_test, target_test) # Evaluate the model on the test data\n",
    "g = visualizer.poof() # Draw/show/poof the data"
   ]
  },
  {
   "cell_type": "code",
   "execution_count": 28,
   "metadata": {},
   "outputs": [
    {
     "data": {
      "image/png": "[encoded data removed]",
      "text/plain": [
       "<Figure size 576x396 with 2 Axes>"
      ]
     },
     "metadata": {},
     "output_type": "display_data"
    }
   ],
   "source": [
    "#KNeighbors Accuracy Visualisation\n",
    "# Instantiate the classification model and visualizer\n",
    "visualizer = ClassificationReport(neigh, classes=[0,1])\n",
    "visualizer.fit(data_train, target_train) # Fit the training data to the visualizer\n",
    "visualizer.score(data_test, target_test) # Evaluate the model on the test data\n",
    "g = visualizer.poof() # Draw/show/poof the data"
   ]
  },
  {
   "cell_type": "code",
   "execution_count": 29,
   "metadata": {},
   "outputs": [
    {
     "name": "stderr",
     "output_type": "stream",
     "text": [
      "/anaconda3/envs/py3/lib/python3.7/site-packages/sklearn/metrics/classification.py:1437: UndefinedMetricWarning: Precision and F-score are ill-defined and being set to 0.0 in labels with no predicted samples.\n",
      "  'precision', 'predicted', average, warn_for)\n"
     ]
    },
    {
     "data": {
      "image/png": "[encoded data removed]",
      "text/plain": [
       "<Figure size 576x396 with 2 Axes>"
      ]
     },
     "metadata": {},
     "output_type": "display_data"
    }
   ],
   "source": [
    "#GPC Accuracy Visualisation\n",
    "# Instantiate the classification model and visualizer\n",
    "visualizer = ClassificationReport(GPC, classes=[0,1])\n",
    "visualizer.fit(data_train, target_train) # Fit the training data to the visualizer\n",
    "visualizer.score(data_test, target_test) # Evaluate the model on the test data\n",
    "g = visualizer.poof() # Draw/show/poof the data"
   ]
  },
  {
   "cell_type": "code",
   "execution_count": 30,
   "metadata": {},
   "outputs": [
    {
     "data": {
      "image/png": "[encoded data removed]",
      "text/plain": [
       "<Figure size 576x396 with 2 Axes>"
      ]
     },
     "metadata": {},
     "output_type": "display_data"
    }
   ],
   "source": [
    "#Dtree Accuracy Visualisation\n",
    "# Instantiate the classification model and visualizer\n",
    "visualizer = ClassificationReport(Dtree, classes=[0,1])\n",
    "visualizer.fit(data_train, target_train) # Fit the training data to the visualizer\n",
    "visualizer.score(data_test, target_test) # Evaluate the model on the test data\n",
    "g = visualizer.poof() # Draw/show/poof the data"
   ]
  },
  {
   "cell_type": "code",
   "execution_count": 31,
   "metadata": {},
   "outputs": [
    {
     "data": {
      "image/png": "[encoded data removed]",
      "text/plain": [
       "<Figure size 576x396 with 2 Axes>"
      ]
     },
     "metadata": {},
     "output_type": "display_data"
    }
   ],
   "source": [
    "#Rforest Accuracy Visualisation\n",
    "# Instantiate the classification model and visualizer\n",
    "visualizer = ClassificationReport(Rforest, classes=[0,1])\n",
    "visualizer.fit(data_train, target_train) # Fit the training data to the visualizer\n",
    "visualizer.score(data_test, target_test) # Evaluate the model on the test data\n",
    "g = visualizer.poof() # Draw/show/poof the data"
   ]
  },
  {
   "cell_type": "code",
   "execution_count": 32,
   "metadata": {},
   "outputs": [
    {
     "data": {
      "image/png": "[encoded data removed]",
      "text/plain": [
       "<Figure size 576x396 with 2 Axes>"
      ]
     },
     "metadata": {},
     "output_type": "display_data"
    }
   ],
   "source": [
    "#NN Accuracy Visualisation\n",
    "# Instantiate the classification model and visualizer\n",
    "visualizer = ClassificationReport(NN, classes=[0,1])\n",
    "visualizer.fit(data_train, target_train) # Fit the training data to the visualizer\n",
    "visualizer.score(data_test, target_test) # Evaluate the model on the test data\n",
    "g = visualizer.poof() # Draw/show/poof the data"
   ]
  },
  {
   "cell_type": "code",
   "execution_count": 33,
   "metadata": {},
   "outputs": [
    {
     "data": {
      "image/png": "[encoded data removed]",
      "text/plain": [
       "<Figure size 576x396 with 2 Axes>"
      ]
     },
     "metadata": {},
     "output_type": "display_data"
    }
   ],
   "source": [
    "#AdaBoost Accuracy Visualisation\n",
    "# Instantiate the classification model and visualizer\n",
    "visualizer = ClassificationReport(AdaBoost, classes=[0,1])\n",
    "visualizer.fit(data_train, target_train) # Fit the training data to the visualizer\n",
    "visualizer.score(data_test, target_test) # Evaluate the model on the test data\n",
    "g = visualizer.poof() # Draw/show/poof the data"
   ]
  },
  {
   "cell_type": "code",
   "execution_count": 34,
   "metadata": {},
   "outputs": [
    {
     "name": "stderr",
     "output_type": "stream",
     "text": [
      "/anaconda3/envs/py3/lib/python3.7/site-packages/sklearn/discriminant_analysis.py:693: UserWarning: Variables are collinear\n",
      "  warnings.warn(\"Variables are collinear\")\n",
      "/anaconda3/envs/py3/lib/python3.7/site-packages/sklearn/discriminant_analysis.py:693: UserWarning: Variables are collinear\n",
      "  warnings.warn(\"Variables are collinear\")\n"
     ]
    },
    {
     "data": {
      "image/png": "[encoded data removed]",
      "text/plain": [
       "<Figure size 576x396 with 2 Axes>"
      ]
     },
     "metadata": {},
     "output_type": "display_data"
    }
   ],
   "source": [
    "#QuardDisc Accuracy Visualisation\n",
    "# Instantiate the classification model and visualizer\n",
    "visualizer = ClassificationReport(QuardDisc, classes=[0,1])\n",
    "visualizer.fit(data_train, target_train) # Fit the training data to the visualizer\n",
    "visualizer.score(data_test, target_test) # Evaluate the model on the test data\n",
    "g = visualizer.poof() # Draw/show/poof the data"
   ]
  },
  {
   "cell_type": "code",
   "execution_count": null,
   "metadata": {},
   "outputs": [],
   "source": []
  },
  {
   "cell_type": "code",
   "execution_count": null,
   "metadata": {},
   "outputs": [],
   "source": []
  }
 ],
 "metadata": {
  "kernelspec": {
   "display_name": "Python 3",
   "language": "python",
   "name": "python3"
  },
  "language_info": {
   "codemirror_mode": {
    "name": "ipython",
    "version": 3
   },
   "file_extension": ".py",
   "mimetype": "text/x-python",
   "name": "python",
   "nbconvert_exporter": "python",
   "pygments_lexer": "ipython3",
   "version": "3.7.3"
  }
 },
 "nbformat": 4,
 "nbformat_minor": 2
}
